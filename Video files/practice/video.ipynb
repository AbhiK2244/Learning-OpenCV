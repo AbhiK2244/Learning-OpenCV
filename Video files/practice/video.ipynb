{
 "cells": [
  {
   "cell_type": "code",
   "execution_count": 1,
   "metadata": {},
   "outputs": [],
   "source": [
    "import cv2 "
   ]
  },
  {
   "cell_type": "code",
   "execution_count": 2,
   "metadata": {},
   "outputs": [
    {
     "data": {
      "text/plain": [
       "< cv2.VideoCapture 000001475BAFF370>"
      ]
     },
     "execution_count": 2,
     "metadata": {},
     "output_type": "execute_result"
    }
   ],
   "source": [
    "#load the video\n",
    "video = cv2.VideoCapture(\"./mountain.mp4\")\n",
    "#video -> a video capture object helps to retrive the frames of the video\n",
    "video"
   ]
  },
  {
   "cell_type": "code",
   "execution_count": 3,
   "metadata": {},
   "outputs": [],
   "source": [
    "while True:\n",
    "    ret, frame = video.read()\n",
    "    #ret is boolean value: true if frame is present otherwise false(if video ends or any error happens)\n",
    "    #frame is numpy array\n",
    "\n",
    "    if not ret:\n",
    "        break\n",
    "    cv2.imshow(\"video frame\", frame)\n",
    "\n",
    "    #if any key will be pressed then waitkey() will return a ASCII value of that key\n",
    "    #ASCII value retured by waitkey is packed with extra bits. \n",
    "    # so and operation with 0xFF is used to remove that extra bit\n",
    "    #for example for q, cv2.waitKey(1) & 0xFF returns 113\n",
    "    # ord() this function is used to return the ascii code of the particular key\n",
    "    # if no key pressed waitkey return -1.\n",
    "    # waitkey(1) means it will wait 1ms after each frame to see whether any key is pressed or not\n",
    "    if cv2.waitKey(1) & 0xFF == ord('q'):    \n",
    "        break\n",
    "    \n",
    "    #always make sure you write below commands to release the system resources otherwise system may break or kernel may break\n",
    "video.release()  #So Your program might not use up unnecessary system resources (RAM, etc.)\n",
    "cv2.destroyAllWindows()\n"
   ]
  },
  {
   "cell_type": "code",
   "execution_count": 6,
   "metadata": {},
   "outputs": [],
   "source": [
    "#write a video\n",
    "video = cv2.VideoCapture(\"./mountain.mp4\")\n",
    "fourcc = cv2.VideoWriter_fourcc(*\"mp4v\")\n",
    "\n",
    "width = int(video.get(cv2.CAP_PROP_FRAME_WIDTH))\n",
    "height = int(video.get(cv2.CAP_PROP_FRAME_HEIGHT))\n",
    "fps = 30\n",
    "\n",
    "out = cv2.VideoWriter(\"./output2.mp4\", fourcc, fps, (width, height))\n",
    "\n",
    "while True:\n",
    "    ret, frame = video.read()\n",
    "\n",
    "    if not ret:\n",
    "        break\n",
    "    \n",
    "    # frame = frame + 40  #always do changes in frame after above if statement.\n",
    "    out.write(frame)\n",
    "    \n",
    "out.release()\n",
    "video.release()\n",
    "cv2.destroyAllWindows()\n",
    "\n"
   ]
  }
 ],
 "metadata": {
  "kernelspec": {
   "display_name": "KNCVU",
   "language": "python",
   "name": "python3"
  },
  "language_info": {
   "codemirror_mode": {
    "name": "ipython",
    "version": 3
   },
   "file_extension": ".py",
   "mimetype": "text/x-python",
   "name": "python",
   "nbconvert_exporter": "python",
   "pygments_lexer": "ipython3",
   "version": "3.11.13"
  },
  "orig_nbformat": 4
 },
 "nbformat": 4,
 "nbformat_minor": 2
}
