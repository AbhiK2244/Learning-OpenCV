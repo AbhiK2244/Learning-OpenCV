{
 "cells": [
  {
   "cell_type": "code",
   "execution_count": 1,
   "metadata": {},
   "outputs": [
    {
     "name": "stdout",
     "output_type": "stream",
     "text": [
      "Collecting opencv-python\n",
      "  Downloading opencv_python-4.11.0.86-cp37-abi3-win_amd64.whl.metadata (20 kB)\n",
      "Collecting numpy>=1.21.2 (from opencv-python)\n",
      "  Downloading numpy-2.3.0-cp311-cp311-win_amd64.whl.metadata (60 kB)\n",
      "Downloading opencv_python-4.11.0.86-cp37-abi3-win_amd64.whl (39.5 MB)\n",
      "   ---------------------------------------- 0.0/39.5 MB ? eta -:--:--\n",
      "   -- ------------------------------------- 2.1/39.5 MB 14.7 MB/s eta 0:00:03\n",
      "   -- ------------------------------------- 2.9/39.5 MB 15.2 MB/s eta 0:00:03\n",
      "   ---- ----------------------------------- 4.7/39.5 MB 11.4 MB/s eta 0:00:04\n",
      "   ------ --------------------------------- 6.0/39.5 MB 7.8 MB/s eta 0:00:05\n",
      "   ------- -------------------------------- 7.6/39.5 MB 7.8 MB/s eta 0:00:05\n",
      "   -------- ------------------------------- 8.7/39.5 MB 7.4 MB/s eta 0:00:05\n",
      "   --------- ------------------------------ 9.4/39.5 MB 6.8 MB/s eta 0:00:05\n",
      "   ---------- ----------------------------- 10.5/39.5 MB 6.6 MB/s eta 0:00:05\n",
      "   ----------- ---------------------------- 11.5/39.5 MB 6.3 MB/s eta 0:00:05\n",
      "   ------------ --------------------------- 12.6/39.5 MB 6.1 MB/s eta 0:00:05\n",
      "   ------------- -------------------------- 13.6/39.5 MB 6.1 MB/s eta 0:00:05\n",
      "   -------------- ------------------------- 14.4/39.5 MB 6.0 MB/s eta 0:00:05\n",
      "   --------------- ------------------------ 15.2/39.5 MB 5.8 MB/s eta 0:00:05\n",
      "   ---------------- ----------------------- 16.0/39.5 MB 5.7 MB/s eta 0:00:05\n",
      "   ---------------- ----------------------- 16.0/39.5 MB 5.7 MB/s eta 0:00:05\n",
      "   ----------------- ---------------------- 17.6/39.5 MB 5.4 MB/s eta 0:00:05\n",
      "   ------------------ --------------------- 18.6/39.5 MB 5.3 MB/s eta 0:00:04\n",
      "   ------------------- -------------------- 19.4/39.5 MB 5.2 MB/s eta 0:00:04\n",
      "   -------------------- ------------------- 20.2/39.5 MB 5.2 MB/s eta 0:00:04\n",
      "   ---------------------- ----------------- 21.8/39.5 MB 5.2 MB/s eta 0:00:04\n",
      "   ----------------------- ---------------- 22.8/39.5 MB 5.2 MB/s eta 0:00:04\n",
      "   ----------------------- ---------------- 23.6/39.5 MB 5.2 MB/s eta 0:00:04\n",
      "   ------------------------ --------------- 24.6/39.5 MB 5.2 MB/s eta 0:00:03\n",
      "   -------------------------- ------------- 25.7/39.5 MB 5.2 MB/s eta 0:00:03\n",
      "   --------------------------- ------------ 26.7/39.5 MB 5.2 MB/s eta 0:00:03\n",
      "   ---------------------------- ----------- 27.8/39.5 MB 5.2 MB/s eta 0:00:03\n",
      "   ----------------------------- ---------- 28.8/39.5 MB 5.2 MB/s eta 0:00:03\n",
      "   ------------------------------ --------- 29.6/39.5 MB 5.1 MB/s eta 0:00:02\n",
      "   ------------------------------ --------- 30.4/39.5 MB 5.1 MB/s eta 0:00:02\n",
      "   -------------------------------- ------- 31.7/39.5 MB 5.1 MB/s eta 0:00:02\n",
      "   --------------------------------- ------ 32.8/39.5 MB 5.1 MB/s eta 0:00:02\n",
      "   ---------------------------------- ----- 33.8/39.5 MB 5.1 MB/s eta 0:00:02\n",
      "   ----------------------------------- ---- 34.6/39.5 MB 5.1 MB/s eta 0:00:01\n",
      "   ------------------------------------ --- 35.9/39.5 MB 5.1 MB/s eta 0:00:01\n",
      "   ------------------------------------- -- 37.0/39.5 MB 5.1 MB/s eta 0:00:01\n",
      "   -------------------------------------- - 38.0/39.5 MB 5.1 MB/s eta 0:00:01\n",
      "   ---------------------------------------  39.1/39.5 MB 5.1 MB/s eta 0:00:01\n",
      "   ---------------------------------------  39.3/39.5 MB 5.1 MB/s eta 0:00:01\n",
      "   ---------------------------------------- 39.5/39.5 MB 5.0 MB/s eta 0:00:00\n",
      "Downloading numpy-2.3.0-cp311-cp311-win_amd64.whl (13.0 MB)\n",
      "   ---------------------------------------- 0.0/13.0 MB ? eta -:--:--\n",
      "   ---- ----------------------------------- 1.3/13.0 MB 7.5 MB/s eta 0:00:02\n",
      "   -------- ------------------------------- 2.6/13.0 MB 8.4 MB/s eta 0:00:02\n",
      "   -------- ------------------------------- 2.6/13.0 MB 8.4 MB/s eta 0:00:02\n",
      "   -------------- ------------------------- 4.7/13.0 MB 5.8 MB/s eta 0:00:02\n",
      "   ------------------ --------------------- 6.0/13.0 MB 5.9 MB/s eta 0:00:02\n",
      "   -------------------- ------------------- 6.8/13.0 MB 5.7 MB/s eta 0:00:02\n",
      "   ------------------------ --------------- 7.9/13.0 MB 5.5 MB/s eta 0:00:01\n",
      "   --------------------------- ------------ 8.9/13.0 MB 5.4 MB/s eta 0:00:01\n",
      "   ----------------------------- ---------- 9.7/13.0 MB 5.3 MB/s eta 0:00:01\n",
      "   --------------------------------- ------ 10.7/13.0 MB 5.2 MB/s eta 0:00:01\n",
      "   ------------------------------------ --- 11.8/13.0 MB 5.2 MB/s eta 0:00:01\n",
      "   ---------------------------------------  12.8/13.0 MB 5.2 MB/s eta 0:00:01\n",
      "   ---------------------------------------- 13.0/13.0 MB 5.1 MB/s eta 0:00:00\n",
      "Installing collected packages: numpy, opencv-python\n",
      "\n",
      "   ---------------------------------------- 0/2 [numpy]\n",
      "   ---------------------------------------- 0/2 [numpy]\n",
      "   ---------------------------------------- 0/2 [numpy]\n",
      "   ---------------------------------------- 0/2 [numpy]\n",
      "   ---------------------------------------- 0/2 [numpy]\n",
      "   ---------------------------------------- 0/2 [numpy]\n",
      "   ---------------------------------------- 0/2 [numpy]\n",
      "   ---------------------------------------- 0/2 [numpy]\n",
      "   ---------------------------------------- 0/2 [numpy]\n",
      "   ---------------------------------------- 0/2 [numpy]\n",
      "   ---------------------------------------- 0/2 [numpy]\n",
      "   ---------------------------------------- 0/2 [numpy]\n",
      "   ---------------------------------------- 0/2 [numpy]\n",
      "   ---------------------------------------- 0/2 [numpy]\n",
      "   ---------------------------------------- 0/2 [numpy]\n",
      "   ---------------------------------------- 0/2 [numpy]\n",
      "   ---------------------------------------- 0/2 [numpy]\n",
      "   ---------------------------------------- 0/2 [numpy]\n",
      "   ---------------------------------------- 0/2 [numpy]\n",
      "   ---------------------------------------- 0/2 [numpy]\n",
      "   ---------------------------------------- 0/2 [numpy]\n",
      "   ---------------------------------------- 0/2 [numpy]\n",
      "   ---------------------------------------- 0/2 [numpy]\n",
      "   ---------------------------------------- 0/2 [numpy]\n",
      "   ---------------------------------------- 0/2 [numpy]\n",
      "   ---------------------------------------- 0/2 [numpy]\n",
      "   ---------------------------------------- 0/2 [numpy]\n",
      "   ---------------------------------------- 0/2 [numpy]\n",
      "   ---------------------------------------- 0/2 [numpy]\n",
      "   ---------------------------------------- 0/2 [numpy]\n",
      "   ---------------------------------------- 0/2 [numpy]\n",
      "   ---------------------------------------- 0/2 [numpy]\n",
      "   -------------------- ------------------- 1/2 [opencv-python]\n",
      "   -------------------- ------------------- 1/2 [opencv-python]\n",
      "   -------------------- ------------------- 1/2 [opencv-python]\n",
      "   -------------------- ------------------- 1/2 [opencv-python]\n",
      "   -------------------- ------------------- 1/2 [opencv-python]\n",
      "   ---------------------------------------- 2/2 [opencv-python]\n",
      "\n",
      "Successfully installed numpy-2.3.0 opencv-python-4.11.0.86\n",
      "Requirement already satisfied: ipykernel in c:\\users\\rajum\\appdata\\roaming\\python\\python311\\site-packages (6.29.5)\n",
      "Requirement already satisfied: comm>=0.1.1 in c:\\users\\rajum\\appdata\\roaming\\python\\python311\\site-packages (from ipykernel) (0.2.2)\n",
      "Requirement already satisfied: debugpy>=1.6.5 in c:\\users\\rajum\\appdata\\roaming\\python\\python311\\site-packages (from ipykernel) (1.8.14)\n",
      "Requirement already satisfied: ipython>=7.23.1 in c:\\users\\rajum\\appdata\\roaming\\python\\python311\\site-packages (from ipykernel) (9.2.0)\n",
      "Requirement already satisfied: jupyter-client>=6.1.12 in c:\\users\\rajum\\appdata\\roaming\\python\\python311\\site-packages (from ipykernel) (8.6.3)\n",
      "Requirement already satisfied: jupyter-core!=5.0.*,>=4.12 in c:\\users\\rajum\\appdata\\roaming\\python\\python311\\site-packages (from ipykernel) (5.7.2)\n",
      "Requirement already satisfied: matplotlib-inline>=0.1 in c:\\users\\rajum\\appdata\\roaming\\python\\python311\\site-packages (from ipykernel) (0.1.7)\n",
      "Requirement already satisfied: nest-asyncio in c:\\users\\rajum\\appdata\\roaming\\python\\python311\\site-packages (from ipykernel) (1.6.0)\n",
      "Requirement already satisfied: packaging in c:\\users\\rajum\\appdata\\roaming\\python\\python311\\site-packages (from ipykernel) (25.0)\n",
      "Requirement already satisfied: psutil in c:\\users\\rajum\\appdata\\roaming\\python\\python311\\site-packages (from ipykernel) (7.0.0)\n",
      "Requirement already satisfied: pyzmq>=24 in c:\\users\\rajum\\appdata\\roaming\\python\\python311\\site-packages (from ipykernel) (26.4.0)\n",
      "Requirement already satisfied: tornado>=6.1 in c:\\users\\rajum\\appdata\\roaming\\python\\python311\\site-packages (from ipykernel) (6.4.2)\n",
      "Requirement already satisfied: traitlets>=5.4.0 in c:\\users\\rajum\\appdata\\roaming\\python\\python311\\site-packages (from ipykernel) (5.14.3)\n",
      "Requirement already satisfied: colorama in c:\\users\\rajum\\anaconda3\\envs\\kncvu\\lib\\site-packages (from ipython>=7.23.1->ipykernel) (0.4.6)\n",
      "Requirement already satisfied: decorator in c:\\users\\rajum\\appdata\\roaming\\python\\python311\\site-packages (from ipython>=7.23.1->ipykernel) (5.2.1)\n",
      "Requirement already satisfied: ipython-pygments-lexers in c:\\users\\rajum\\appdata\\roaming\\python\\python311\\site-packages (from ipython>=7.23.1->ipykernel) (1.1.1)\n",
      "Requirement already satisfied: jedi>=0.16 in c:\\users\\rajum\\appdata\\roaming\\python\\python311\\site-packages (from ipython>=7.23.1->ipykernel) (0.19.2)\n",
      "Requirement already satisfied: prompt_toolkit<3.1.0,>=3.0.41 in c:\\users\\rajum\\appdata\\roaming\\python\\python311\\site-packages (from ipython>=7.23.1->ipykernel) (3.0.51)\n",
      "Requirement already satisfied: pygments>=2.4.0 in c:\\users\\rajum\\appdata\\roaming\\python\\python311\\site-packages (from ipython>=7.23.1->ipykernel) (2.19.1)\n",
      "Requirement already satisfied: stack_data in c:\\users\\rajum\\appdata\\roaming\\python\\python311\\site-packages (from ipython>=7.23.1->ipykernel) (0.6.3)\n",
      "Requirement already satisfied: typing_extensions>=4.6 in c:\\users\\rajum\\anaconda3\\envs\\kncvu\\lib\\site-packages (from ipython>=7.23.1->ipykernel) (4.14.0)\n",
      "Requirement already satisfied: wcwidth in c:\\users\\rajum\\appdata\\roaming\\python\\python311\\site-packages (from prompt_toolkit<3.1.0,>=3.0.41->ipython>=7.23.1->ipykernel) (0.2.13)\n",
      "Requirement already satisfied: parso<0.9.0,>=0.8.4 in c:\\users\\rajum\\appdata\\roaming\\python\\python311\\site-packages (from jedi>=0.16->ipython>=7.23.1->ipykernel) (0.8.4)\n",
      "Requirement already satisfied: python-dateutil>=2.8.2 in c:\\users\\rajum\\appdata\\roaming\\python\\python311\\site-packages (from jupyter-client>=6.1.12->ipykernel) (2.9.0.post0)\n",
      "Requirement already satisfied: platformdirs>=2.5 in c:\\users\\rajum\\anaconda3\\envs\\kncvu\\lib\\site-packages (from jupyter-core!=5.0.*,>=4.12->ipykernel) (4.3.8)\n",
      "Requirement already satisfied: pywin32>=300 in c:\\users\\rajum\\appdata\\roaming\\python\\python311\\site-packages (from jupyter-core!=5.0.*,>=4.12->ipykernel) (310)\n",
      "Requirement already satisfied: six>=1.5 in c:\\users\\rajum\\appdata\\roaming\\python\\python311\\site-packages (from python-dateutil>=2.8.2->jupyter-client>=6.1.12->ipykernel) (1.17.0)\n",
      "Requirement already satisfied: executing>=1.2.0 in c:\\users\\rajum\\appdata\\roaming\\python\\python311\\site-packages (from stack_data->ipython>=7.23.1->ipykernel) (2.2.0)\n",
      "Requirement already satisfied: asttokens>=2.1.0 in c:\\users\\rajum\\appdata\\roaming\\python\\python311\\site-packages (from stack_data->ipython>=7.23.1->ipykernel) (3.0.0)\n",
      "Requirement already satisfied: pure-eval in c:\\users\\rajum\\appdata\\roaming\\python\\python311\\site-packages (from stack_data->ipython>=7.23.1->ipykernel) (0.2.3)\n"
     ]
    }
   ],
   "source": [
    "# !pip install opencv-python\n",
    "# !pip install ipykernel"
   ]
  },
  {
   "cell_type": "code",
   "execution_count": 2,
   "metadata": {},
   "outputs": [],
   "source": [
    "import cv2"
   ]
  },
  {
   "cell_type": "code",
   "execution_count": 7,
   "metadata": {},
   "outputs": [],
   "source": [
    "#Read the image\n",
    "image = cv2.imread(\"./mountain.jpg\")"
   ]
  },
  {
   "cell_type": "code",
   "execution_count": 10,
   "metadata": {},
   "outputs": [
    {
     "name": "stdout",
     "output_type": "stream",
     "text": [
      "image loaded successfully!\n"
     ]
    }
   ],
   "source": [
    "#check if image is loaded or not\n",
    "if image is None:\n",
    "    print(\"Could not load the image\")\n",
    "else:\n",
    "    print(\"image loaded successfully!\")"
   ]
  },
  {
   "cell_type": "code",
   "execution_count": 11,
   "metadata": {},
   "outputs": [],
   "source": [
    "#display the image\n",
    "cv2.imshow(\"Image window\", image) # it will open a window to show the image named image window\n",
    "cv2.waitKey(0) #it will pause the program until a key is pressed because we don't want the image to be open and close immidiatly\n",
    "cv2.destroyAllWindows() #realeases the cv2 window"
   ]
  },
  {
   "cell_type": "code",
   "execution_count": 15,
   "metadata": {},
   "outputs": [
    {
     "data": {
      "text/plain": [
       "True"
      ]
     },
     "execution_count": 15,
     "metadata": {},
     "output_type": "execute_result"
    }
   ],
   "source": [
    "#write the image but we will now save the image as it is. we will modify it. we will add 30 in each pixel\n",
    "\n",
    "image_new = image + 30  # image is basically a numpy array\n",
    "cv2.imwrite(\"./output4.jpg\", image_new)\n"
   ]
  },
  {
   "cell_type": "code",
   "execution_count": null,
   "metadata": {},
   "outputs": [],
   "source": []
  }
 ],
 "metadata": {
  "kernelspec": {
   "display_name": "KNCVU",
   "language": "python",
   "name": "python3"
  },
  "language_info": {
   "codemirror_mode": {
    "name": "ipython",
    "version": 3
   },
   "file_extension": ".py",
   "mimetype": "text/x-python",
   "name": "python",
   "nbconvert_exporter": "python",
   "pygments_lexer": "ipython3",
   "version": "3.11.13"
  },
  "orig_nbformat": 4
 },
 "nbformat": 4,
 "nbformat_minor": 2
}
